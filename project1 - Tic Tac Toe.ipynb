{
 "cells": [
  {
   "cell_type": "markdown",
   "metadata": {},
   "source": [
    "# project1 -Tic Tac Toe"
   ]
  },
  {
   "cell_type": "markdown",
   "metadata": {},
   "source": [
    "##### create a game table"
   ]
  },
  {
   "cell_type": "code",
   "execution_count": 35,
   "metadata": {},
   "outputs": [],
   "source": [
    "import random, time"
   ]
  },
  {
   "cell_type": "code",
   "execution_count": 28,
   "metadata": {},
   "outputs": [],
   "source": [
    "from IPython.display import clear_output\n",
    "def display_table(dic):\n",
    "    clear_output()\n",
    "    print(dic['up-l']+' | '+dic['up-m']+' | '+dic['up-r'])\n",
    "    print('----------')\n",
    "    print(dic['mi-l']+' | '+dic['mi-m']+' | '+dic['mi-r'])\n",
    "    print('----------')\n",
    "    print(dic['bo-l']+' | '+dic['bo-m']+' | '+dic['bo-r'])"
   ]
  },
  {
   "cell_type": "code",
   "execution_count": 20,
   "metadata": {},
   "outputs": [
    {
     "name": "stdout",
     "output_type": "stream",
     "text": [
      "X | O | X\n",
      "----------\n",
      "X | O |  \n",
      "----------\n",
      "X | X |  \n",
      "X | O | X\n",
      "----------\n",
      "X | O |  \n",
      "----------\n",
      "X | X |  \n"
     ]
    }
   ],
   "source": [
    "test_dic = {'up-l':'X','up-m':'O','up-r':'X',\n",
    "            'mi-l':'X','mi-m':'O','mi-r':' ',\n",
    "            'bo-l':'X','bo-m':'X','bo-r':' '}\n",
    "display_table(test_dic)\n",
    "display_table(test_dic)"
   ]
  },
  {
   "cell_type": "code",
   "execution_count": 29,
   "metadata": {},
   "outputs": [
    {
     "name": "stdout",
     "output_type": "stream",
     "text": [
      "X | O | X\n",
      "----------\n",
      "X | O |  \n",
      "----------\n",
      "X | X |  \n"
     ]
    }
   ],
   "source": [
    "for i in range(5):\n",
    "    input()\n",
    "    display_table(test_dic)"
   ]
  },
  {
   "cell_type": "markdown",
   "metadata": {},
   "source": [
    "#####    create a function to check winner"
   ]
  },
  {
   "cell_type": "code",
   "execution_count": 30,
   "metadata": {},
   "outputs": [],
   "source": [
    "def check_win(dic):\n",
    "    if ((dic['up-l'] == dic['up-m'] == dic['up-r'] == 'X' or\n",
    "    dic['mi-l'] == dic['mi-m'] == dic['mi-r'] == 'X' or\n",
    "    dic['bo-l'] == dic['bo-m'] == dic['bo-r'] == 'X' or\n",
    "    dic['up-l'] == dic['mi-l'] == dic['bo-l'] == 'X' or\n",
    "    dic['up-m'] == dic['mi-m'] == dic['bo-m'] =='X' or\n",
    "    dic['up-r'] == dic['mi-r'] == dic['bo-r'] == 'X' or\n",
    "    dic['up-l'] == dic['mi-m'] == dic['bo-r'] == 'X' or\n",
    "    dic['up-r'] == dic['mi-m'] == dic['bo-l'] == 'X') or \n",
    "    (dic['up-l'] == dic['up-m'] == dic['up-r'] == 'O' or\n",
    "    dic['mi-l'] == dic['mi-m'] == dic['mi-r'] == 'O' or\n",
    "    dic['bo-l'] == dic['bo-m'] == dic['bo-r'] == 'O' or\n",
    "    dic['up-l'] == dic['mi-l'] == dic['bo-l'] == 'O' or\n",
    "    dic['up-m'] == dic['mi-m'] == dic['bo-m'] =='O' or\n",
    "    dic['up-r'] == dic['mi-r'] == dic['bo-r'] == 'O' or\n",
    "    dic['up-l'] == dic['mi-m'] == dic['bo-r'] == 'O' or\n",
    "    dic['up-r'] == dic['mi-m'] == dic['bo-l'] == 'O')):\n",
    "        return True"
   ]
  },
  {
   "cell_type": "markdown",
   "metadata": {},
   "source": [
    "##### create a function to choose player"
   ]
  },
  {
   "cell_type": "code",
   "execution_count": 31,
   "metadata": {},
   "outputs": [],
   "source": [
    "def choose_player():\n",
    "    print('Do you want to play first? y or n')\n",
    "    play_first = input()\n",
    "    if play_first == 'y':\n",
    "        human_marker = 'X'\n",
    "        computer_marker = 'O'\n",
    "    elif play_first == 'n':\n",
    "        human_marker = 'O'\n",
    "        computer_marker = 'X'\n",
    "    else:\n",
    "        raise Exception('Please input y or n')\n",
    "    return human_marker, computer_marker"
   ]
  },
  {
   "cell_type": "markdown",
   "metadata": {},
   "source": [
    "##### create function to run computer_player"
   ]
  },
  {
   "cell_type": "code",
   "execution_count": 37,
   "metadata": {},
   "outputs": [],
   "source": [
    "def computer_player(dic,computer_marker):\n",
    "    empty_lst = []\n",
    "    for k in dic:\n",
    "        if dic[k] != 'O' and dic[k] != 'X':\n",
    "            empty_lst.append(k)\n",
    "    position = random.choice(empty_lst)\n",
    "    dic[position] = computer_marker\n",
    "    display_table(dic)"
   ]
  },
  {
   "cell_type": "code",
   "execution_count": 7,
   "metadata": {},
   "outputs": [
    {
     "name": "stdout",
     "output_type": "stream",
     "text": [
      "X |   |  \n",
      "----------\n",
      "  |   |  \n",
      "----------\n",
      "  |   |  \n"
     ]
    }
   ],
   "source": [
    "test_dic = {'up-l':' ','up-m':' ','up-r':' ',\n",
    "            'mi-l':' ','mi-m':' ','mi-r':' ',\n",
    "            'bo-l':' ','bo-m':' ','bo-r':' '}\n",
    "computer_player(test_dic,'X')\n",
    "display_table(test_dic)"
   ]
  },
  {
   "cell_type": "markdown",
   "metadata": {},
   "source": [
    "##### define a function to place marker"
   ]
  },
  {
   "cell_type": "code",
   "execution_count": 33,
   "metadata": {},
   "outputs": [],
   "source": [
    "def human_place_marker(dic,marker):\n",
    "    print('Please select a position from up|mi|bo-l|m|r')\n",
    "    position = input()\n",
    "    dic[position]=marker\n",
    "    display_table(dic)"
   ]
  },
  {
   "cell_type": "markdown",
   "metadata": {},
   "source": [
    "##### combine together"
   ]
  },
  {
   "cell_type": "code",
   "execution_count": 43,
   "metadata": {},
   "outputs": [
    {
     "name": "stdout",
     "output_type": "stream",
     "text": [
      "  | X | O\n",
      "----------\n",
      "  | X |  \n",
      "----------\n",
      "  | X | O\n",
      "Human player win!\n"
     ]
    }
   ],
   "source": [
    "print(\"Let's start the game!\")\n",
    "human_marker,computer_marker = choose_player()\n",
    "table_dic={'up-l':' ','up-m':' ','up-r':' ',\n",
    "            'mi-l':' ','mi-m':' ','mi-r':' ',\n",
    "            'bo-l':' ','bo-m':' ','bo-r':' '}\n",
    "display_table(table_dic)\n",
    "\n",
    "if human_marker == 'X':\n",
    "    while True:\n",
    "        human_place_marker(table_dic,human_marker)\n",
    "        if check_win(table_dic):\n",
    "            print('Human player win!')\n",
    "            break\n",
    "        time.sleep(1)\n",
    "        computer_player(table_dic,computer_marker)\n",
    "        \n",
    "        if check_win(table_dic):\n",
    "            print('Computer player win!')\n",
    "            break\n",
    "elif human_marker == 'O':\n",
    "    while True:\n",
    "        computer_player(table_dic,computer_marker)\n",
    "        display_table(table_dic)\n",
    "        if check_win(table_dic):\n",
    "            print('Computer player win!')\n",
    "            break\n",
    "        time.sleep(1)\n",
    "        human_place_marker(table_dic,human_marker)\n",
    "        if check_win(table_dic):\n",
    "            print('Human player win!')\n",
    "            break"
   ]
  },
  {
   "cell_type": "code",
   "execution_count": null,
   "metadata": {},
   "outputs": [],
   "source": []
  },
  {
   "cell_type": "code",
   "execution_count": null,
   "metadata": {
    "collapsed": true
   },
   "outputs": [],
   "source": []
  }
 ],
 "metadata": {
  "kernelspec": {
   "display_name": "Python 3",
   "language": "python",
   "name": "python3"
  },
  "language_info": {
   "codemirror_mode": {
    "name": "ipython",
    "version": 3
   },
   "file_extension": ".py",
   "mimetype": "text/x-python",
   "name": "python",
   "nbconvert_exporter": "python",
   "pygments_lexer": "ipython3",
   "version": "3.6.4"
  }
 },
 "nbformat": 4,
 "nbformat_minor": 2
}
