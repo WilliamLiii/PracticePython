{
 "cells": [
  {
   "cell_type": "markdown",
   "metadata": {},
   "source": [
    "# project1"
   ]
  },
  {
   "cell_type": "markdown",
   "metadata": {},
   "source": [
    "##### create a game table"
   ]
  },
  {
   "cell_type": "code",
   "execution_count": 1,
   "metadata": {},
   "outputs": [],
   "source": [
    "import random"
   ]
  },
  {
   "cell_type": "code",
   "execution_count": 2,
   "metadata": {},
   "outputs": [],
   "source": [
    "from IPython.display import clear_output\n",
    "def display_table(dic):\n",
    "    #clear_output()\n",
    "    print(dic['up-l']+' | '+dic['up-m']+' | '+dic['up-r'])\n",
    "    print('----------')\n",
    "    print(dic['mi-l']+' | '+dic['mi-m']+' | '+dic['mi-r'])\n",
    "    print('----------')\n",
    "    print(dic['bo-l']+' | '+dic['bo-m']+' | '+dic['bo-r'])"
   ]
  },
  {
   "cell_type": "code",
   "execution_count": 3,
   "metadata": {},
   "outputs": [
    {
     "name": "stdout",
     "output_type": "stream",
     "text": [
      "X | O | X\n",
      "----------\n",
      "X | O | X\n",
      "----------\n",
      "X | X | O\n",
      "X | O | X\n",
      "----------\n",
      "X | O | X\n",
      "----------\n",
      "X | X | O\n"
     ]
    }
   ],
   "source": [
    "test_dic = {'up-l':'X','up-m':'O','up-r':'X',\n",
    "            'mi-l':'X','mi-m':'O','mi-r':'X',\n",
    "            'bo-l':'X','bo-m':'X','bo-r':'O'}\n",
    "display_table(test_dic)\n",
    "display_table(test_dic)"
   ]
  },
  {
   "cell_type": "markdown",
   "metadata": {},
   "source": [
    "#####    create a function to check winner"
   ]
  },
  {
   "cell_type": "code",
   "execution_count": 4,
   "metadata": {},
   "outputs": [],
   "source": [
    "def check_win(dic):\n",
    "    if ((dic['up-l'] == dic['up-m'] == dic['up-r'] == 'X' or\n",
    "    dic['mi-l'] == dic['mi-m'] == dic['mi-r'] == 'X' or\n",
    "    dic['bo-l'] == dic['bo-m'] == dic['bo-r'] == 'X' or\n",
    "    dic['up-l'] == dic['mi-l'] == dic['bo-l'] == 'X' or\n",
    "    dic['up-m'] == dic['mi-m'] == dic['bo-m'] =='X' or\n",
    "    dic['up-r'] == dic['mi-r'] == dic['bo-r'] == 'X' or\n",
    "    dic['up-l'] == dic['mi-m'] == dic['bo-r'] == 'X' or\n",
    "    dic['up-r'] == dic['mi-m'] == dic['bo-l'] == 'X') or \n",
    "    (dic['up-l'] == dic['up-m'] == dic['up-r'] == 'O' or\n",
    "    dic['mi-l'] == dic['mi-m'] == dic['mi-r'] == 'O' or\n",
    "    dic['bo-l'] == dic['bo-m'] == dic['bo-r'] == 'O' or\n",
    "    dic['up-l'] == dic['mi-l'] == dic['bo-l'] == 'O' or\n",
    "    dic['up-m'] == dic['mi-m'] == dic['bo-m'] =='O' or\n",
    "    dic['up-r'] == dic['mi-r'] == dic['bo-r'] == 'O' or\n",
    "    dic['up-l'] == dic['mi-m'] == dic['bo-r'] == 'O' or\n",
    "    dic['up-r'] == dic['mi-m'] == dic['bo-l'] == 'O')):\n",
    "        return True"
   ]
  },
  {
   "cell_type": "markdown",
   "metadata": {},
   "source": [
    "##### create a function to choose player"
   ]
  },
  {
   "cell_type": "code",
   "execution_count": 5,
   "metadata": {},
   "outputs": [],
   "source": [
    "def choose_player():\n",
    "    print('Do you want to play first? y or n')\n",
    "    play_first = input()\n",
    "    if play_first == 'y':\n",
    "        human_marker = 'X'\n",
    "        computer_marker = 'O'\n",
    "    elif play_first == 'n':\n",
    "        human_marker = 'O'\n",
    "        computer_marker = 'X'\n",
    "    else:\n",
    "        raise Exception('Please input y or n')\n",
    "    return human_marker, computer_marker"
   ]
  },
  {
   "cell_type": "markdown",
   "metadata": {},
   "source": [
    "##### create function to run computer_player"
   ]
  },
  {
   "cell_type": "code",
   "execution_count": 6,
   "metadata": {},
   "outputs": [],
   "source": [
    "def computer_player(dic,computer_marker):\n",
    "    for k in dic:\n",
    "        if dic[k] == 'O' or dic[k] == 'X':\n",
    "            continue\n",
    "        else:\n",
    "            if random.randint(0,1)==1:\n",
    "                dic[k] = computer_marker\n",
    "                break\n",
    "            else:\n",
    "                continue\n",
    "    return dic\n",
    "    "
   ]
  },
  {
   "cell_type": "code",
   "execution_count": 7,
   "metadata": {},
   "outputs": [
    {
     "name": "stdout",
     "output_type": "stream",
     "text": [
      "X | X |  \n",
      "----------\n",
      "O |   |  \n",
      "----------\n",
      "  |   |  \n"
     ]
    }
   ],
   "source": [
    "test_dic = {'up-l':'X','up-m':' ','up-r':' ',\n",
    "            'mi-l':'O','mi-m':' ','mi-r':' ',\n",
    "            'bo-l':' ','bo-m':' ','bo-r':' '}\n",
    "dic = computer_player(test_dic,'X')\n",
    "display_table(dic)"
   ]
  },
  {
   "cell_type": "markdown",
   "metadata": {},
   "source": [
    "##### combine together"
   ]
  },
  {
   "cell_type": "code",
   "execution_count": 8,
   "metadata": {},
   "outputs": [
    {
     "name": "stdout",
     "output_type": "stream",
     "text": [
      "Let's start the game!\n",
      "Do you want to play first? y or n\n",
      "y\n",
      "  |   |  \n",
      "----------\n",
      "  |   |  \n",
      "----------\n",
      "  |   |  \n",
      "Please select a position from up|mi|bo-l|m|r\n",
      "up-l\n",
      "X |   |  \n",
      "----------\n",
      "  |   |  \n",
      "----------\n",
      "  |   |  \n",
      "X |   | O\n",
      "----------\n",
      "  |   |  \n",
      "----------\n",
      "  |   |  \n",
      "Please select a position from up|mi|bo-l|m|r\n",
      "mi-l\n",
      "X |   | O\n",
      "----------\n",
      "X |   |  \n",
      "----------\n",
      "  |   |  \n",
      "X |   | O\n",
      "----------\n",
      "X | O |  \n",
      "----------\n",
      "  |   |  \n",
      "Please select a position from up|mi|bo-l|m|r\n",
      "bo-l\n",
      "X |   | O\n",
      "----------\n",
      "X | O |  \n",
      "----------\n",
      "X |   |  \n",
      "Human player win!\n"
     ]
    }
   ],
   "source": [
    "print(\"Let's start the game!\")\n",
    "human_marker,computer_marker = choose_player()\n",
    "table_dic={'up-l':' ','up-m':' ','up-r':' ',\n",
    "            'mi-l':' ','mi-m':' ','mi-r':' ',\n",
    "            'bo-l':' ','bo-m':' ','bo-r':' '}\n",
    "display_table(table_dic)\n",
    "\n",
    "if human_marker == 'X':\n",
    "    while True:\n",
    "        print('Please select a position from up|mi|bo-l|m|r')\n",
    "        position = input()\n",
    "        table_dic[position] = human_marker\n",
    "        display_table(table_dic)\n",
    "        if check_win(table_dic):\n",
    "            print('Human player win!')\n",
    "            break\n",
    "        table_dic = computer_player(table_dic,computer_marker)\n",
    "        display_table(table_dic)\n",
    "        if check_win(table_dic):\n",
    "            print('Computer player win!')\n",
    "            break\n",
    "elif human_marker == 'O':\n",
    "    while True:\n",
    "        table_dic = computer_player(table_dic,computer_marker)\n",
    "        display_table(table_dic)\n",
    "        if check_win(table_dic):\n",
    "            print('Computer player win!')\n",
    "            break\n",
    "        print('Please select a position from up|mi|bo-l|m|r')\n",
    "        position = input()\n",
    "        table_dic[position] = human_marker\n",
    "        display_table(table_dic)\n",
    "        if check_win(table_dic):\n",
    "            print('Human player win!')\n",
    "            break"
   ]
  },
  {
   "cell_type": "code",
   "execution_count": null,
   "metadata": {},
   "outputs": [],
   "source": []
  },
  {
   "cell_type": "code",
   "execution_count": null,
   "metadata": {
    "collapsed": true
   },
   "outputs": [],
   "source": []
  }
 ],
 "metadata": {
  "kernelspec": {
   "display_name": "Python 3",
   "language": "python",
   "name": "python3"
  },
  "language_info": {
   "codemirror_mode": {
    "name": "ipython",
    "version": 3
   },
   "file_extension": ".py",
   "mimetype": "text/x-python",
   "name": "python",
   "nbconvert_exporter": "python",
   "pygments_lexer": "ipython3",
   "version": "3.6.4"
  }
 },
 "nbformat": 4,
 "nbformat_minor": 2
}
